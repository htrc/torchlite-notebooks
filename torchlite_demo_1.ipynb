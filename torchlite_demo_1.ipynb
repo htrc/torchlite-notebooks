{
 "cells": [
  {
   "cell_type": "markdown",
   "id": "28e69340",
   "metadata": {},
   "source": [
    "### A Demonstration of Torchlite's Inner Workings"
   ]
  },
  {
   "cell_type": "markdown",
   "id": "1953eb02",
   "metadata": {},
   "source": [
    "Welcome to a demo of Torchlite's back-end library!  In this demo, we are going to show you how to use Torchlite to access metadata from an extracted-features workset using Python."
   ]
  },
  {
   "cell_type": "markdown",
   "id": "17d9a8f5",
   "metadata": {},
   "source": [
    "Do you already know how to use a Jupyter Notebook? Great! Then this demonstration should be easy to follow.  If you aren't familiar with Jupyter Notebooks, don't worry: all you have to do to go through the demonstration is to click on a cell to make it active (a cell is a gray, rectangular region; when a cell is activated, a green box appears around it) and press the shift key and the return key at the same time. \n",
    "\n",
    "Let's try it! Click on the cell right below this one: the cell that has a simple Python print statement in it. When you click on that cell, a green box will appear around it to show you it is the active cell.  Now click on the \"Run\" button at the top of the page, or hold down the shift key on your keyboard and press the return key (that is: press down on the shift key and keep pressing down, then press down on the return key briefly and release it)."
   ]
  },
  {
   "cell_type": "code",
   "execution_count": null,
   "id": "694aea78",
   "metadata": {},
   "outputs": [],
   "source": [
    "print(\"Hello, Torchlite!\")"
   ]
  },
  {
   "cell_type": "markdown",
   "id": "ea9e10fa",
   "metadata": {},
   "source": [
    "The words \"Hello, Torchlite!\" should have appeared underneath the cell.  Did it work? Great! Then we can proceed with the demonstration."
   ]
  },
  {
   "cell_type": "markdown",
   "id": "61a00244",
   "metadata": {},
   "source": [
    "This demonstration assumes you have a basic knowledge of Python. If you've never encountered Python code before, don't worry: you can still run the demonstration by activating cells and running them, but some of the explanations may not make much sense to you."
   ]
  },
  {
   "cell_type": "markdown",
   "id": "97a34b91",
   "metadata": {},
   "source": [
    "The first thing we'll do is import two classes: Workset and Api. Activate the cell right below this one and run it by clicking on the Run button or pressing shift-return."
   ]
  },
  {
   "cell_type": "code",
   "execution_count": null,
   "id": "d3d7c127",
   "metadata": {},
   "outputs": [],
   "source": [
    "from htrc.ef.api import Api\n",
    "from htrc.torchlite.worksets import Workset"
   ]
  },
  {
   "cell_type": "markdown",
   "id": "07e50910",
   "metadata": {},
   "source": [
    "The Api class handles the network communication with the Extracted Features Service, so you don't have to know web addresses or api endpoints.  The Workset class is an abstraction on top of the workset data returned by the Extracted Features Api. In this version, a Workset is a simple wrapper around the EF workset data; in future versions, users will be able to assign filters and transformers to a Workset object, as well as being able to serialize it to a datastore (save it)."
   ]
  },
  {
   "cell_type": "markdown",
   "id": "e0b3fe3a",
   "metadata": {},
   "source": [
    "Every workset in the Extracted Features Database has a unique identifier (id). You must know the id of the workset you want to use; at the moment there is no way to search for worksets.  The Torchlite dashboard includes a widget for selecting a workset from pre-selected set of worksets, but for the demo we'll use a small workset containing four volumes."
   ]
  },
  {
   "cell_type": "code",
   "execution_count": null,
   "id": "03e21bea",
   "metadata": {},
   "outputs": [],
   "source": [
    "workset_id = '6416163a2d0000f9025c8284'"
   ]
  },
  {
   "cell_type": "markdown",
   "id": "82964d70",
   "metadata": {},
   "source": [
    "We'll begin by creating an Api object for the Workset to use.  In this version, the Api object is very simple, but in later versions users will be able to configure it using parameters."
   ]
  },
  {
   "cell_type": "code",
   "execution_count": null,
   "id": "27714f7b",
   "metadata": {},
   "outputs": [],
   "source": [
    "api = Api()"
   ]
  },
  {
   "cell_type": "markdown",
   "id": "050f3630",
   "metadata": {},
   "source": [
    "Now we'll create a workset by passing the workset identifier and the api object to the Workset class initializer."
   ]
  },
  {
   "cell_type": "code",
   "execution_count": null,
   "id": "95bc30e3",
   "metadata": {},
   "outputs": [],
   "source": [
    "workset = Workset(workset_id, api)\n",
    "print(workset)"
   ]
  },
  {
   "cell_type": "markdown",
   "id": "f9974a8f",
   "metadata": {},
   "source": [
    "A Workset object has several user-accessible properties and methods. The htids property contains the htids of all the volumes in the workset:"
   ]
  },
  {
   "cell_type": "code",
   "execution_count": null,
   "id": "2849b6d7",
   "metadata": {},
   "outputs": [],
   "source": [
    "print(workset.htids)"
   ]
  },
  {
   "cell_type": "markdown",
   "id": "547645fa",
   "metadata": {},
   "source": [
    "The metadata property is very useful.  It is a method that takes a list of attributes and queries to EF database for just those attributes and nothing else, leading to better performance for very large worksets."
   ]
  },
  {
   "cell_type": "code",
   "execution_count": null,
   "id": "6994d915",
   "metadata": {},
   "outputs": [],
   "source": [
    "metadata = workset.metadata(['htid', 'metadata.title', 'metadata.pubDate'])\n",
    "print(metadata)"
   ]
  },
  {
   "cell_type": "markdown",
   "id": "54c91a5a",
   "metadata": {},
   "source": [
    "The values returned from the EF API are validated using Pydantic data models, which also provide a simplified interface to the data fields."
   ]
  },
  {
   "cell_type": "code",
   "execution_count": null,
   "id": "9b72bcea",
   "metadata": {},
   "outputs": [],
   "source": [
    "print(metadata[0].metadata.title)"
   ]
  },
  {
   "cell_type": "markdown",
   "id": "e0628eb9",
   "metadata": {},
   "source": [
    "We can use simple Python list comprehensions to compile a basic data structure (a list of dictionaries) that we can use in our data visualization and analysis:"
   ]
  },
  {
   "cell_type": "code",
   "execution_count": null,
   "id": "b12e6f95",
   "metadata": {},
   "outputs": [],
   "source": [
    "pubData = [{\"htid\": v.htid, \"title\": v.metadata.title, \"pubDate\": v.metadata.pubDate} for v in metadata]\n",
    "print(pubData)"
   ]
  },
  {
   "cell_type": "markdown",
   "id": "c3befc91",
   "metadata": {},
   "source": [
    "In the next demo, we'll show you how to use Torchlite to create visualizations in a Jupyter Notebook."
   ]
  }
 ],
 "metadata": {
  "kernelspec": {
   "display_name": "Python 3 (ipykernel)",
   "language": "python",
   "name": "python3"
  },
  "language_info": {
   "codemirror_mode": {
    "name": "ipython",
    "version": 3
   },
   "file_extension": ".py",
   "mimetype": "text/x-python",
   "name": "python",
   "nbconvert_exporter": "python",
   "pygments_lexer": "ipython3",
   "version": "3.11.2"
  }
 },
 "nbformat": 4,
 "nbformat_minor": 5
}
