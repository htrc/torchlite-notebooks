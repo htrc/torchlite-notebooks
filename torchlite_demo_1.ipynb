{
 "cells": [
  {
   "cell_type": "markdown",
   "id": "28e69340",
   "metadata": {},
   "source": [
    "### A Demonstration of Torchlite's Inner Workings"
   ]
  },
  {
   "cell_type": "markdown",
   "id": "1953eb02",
   "metadata": {},
   "source": [
    "Welcome to a demo of Torchlite's back-end library!  In this demo, we are going to show you how to use Torchlite to access metadata from an extracted-features workset using Python."
   ]
  },
  {
   "cell_type": "markdown",
   "id": "17d9a8f5",
   "metadata": {},
   "source": [
    "Do you already know how to use a Jupyter Notebook? Great! Then this demonstration should be easy to follow.  If you aren't familiar with Jupyter Notebooks, don't worry: all you have to do to go through the demonstration is to click on a cell to make it active (a cell is a gray, rectangular region; when a cell is activated, a green box appears around it) and press the shift key and the return key at the same time. \n",
    "\n",
    "Let's try it! Click on the cell right below this one: the cell that has a simple Python print statement in it. When you click on that cell, a green box will appear around it to show you it is the active cell.  Now click on the \"Run\" button at the top of the page, or hold down the shift key on your keyboard and press the return key (that is: press down on the shift key and keep pressing down, then press down on the return key briefly and release it)."
   ]
  },
  {
   "cell_type": "code",
   "execution_count": null,
   "id": "694aea78",
   "metadata": {},
   "outputs": [],
   "source": [
    "print(\"Hello, Torchlite!\")"
   ]
  },
  {
   "cell_type": "markdown",
   "id": "ea9e10fa",
   "metadata": {},
   "source": [
    "The words \"Hello, Torchlite!\" should have appeared underneath the cell.  Did it work? Great! Then we can proceed with the demonstration."
   ]
  },
  {
   "cell_type": "markdown",
   "id": "61a00244",
   "metadata": {},
   "source": [
    "This demonstration assumes you have a basic knowledge of Python. If you've never encountered Python code before, don't worry: you can still run the demonstration by activating cells and running them, but some of the explanations may not make much sense to you."
   ]
  },
  {
   "cell_type": "markdown",
   "id": "97a34b91",
   "metadata": {},
   "source": [
    "The first thing we'll do is import two classes: Workset and Api. Activate the cell right below this one and run it by clicking on the Run button or pressing shift-return."
   ]
  },
  {
   "cell_type": "code",
   "execution_count": 1,
   "id": "d3d7c127",
   "metadata": {},
   "outputs": [],
   "source": [
    "from htrc.ef.api import Api\n",
    "from htrc.torchlite.worksets import Workset"
   ]
  },
  {
   "cell_type": "markdown",
   "id": "07e50910",
   "metadata": {},
   "source": [
    "The Api class handles the network communication with the Extracted Features Service, so you don't have to know web addresses or api endpoints.  The Workset class is an abstraction on top of the workset data returned by the Extracted Features Api. In this version, a Workset is a simple wrapper around the EF workset data; in future versions, users will be able to assign filters and transformers to a Workset object, as well as being able to serialize it to a datastore (save it)."
   ]
  },
  {
   "cell_type": "markdown",
   "id": "e0b3fe3a",
   "metadata": {},
   "source": [
    "Every workset in the Extracted Features Database has a unique identifier (id). You must know the id of the workset you want to use; at the moment there is no way to search for worksets.  The Torchlite dashboard includes a widget for selecting a workset from pre-selected set of worksets, but for the demo we'll use a small workset containing four volumes."
   ]
  },
  {
   "cell_type": "code",
   "execution_count": 2,
   "id": "03e21bea",
   "metadata": {},
   "outputs": [],
   "source": [
    "workset_id = '64407dbd3300005208a5dca4'"
   ]
  },
  {
   "cell_type": "markdown",
   "id": "82964d70",
   "metadata": {},
   "source": [
    "We'll begin by creating an Api object for the Workset to use.  In this version, the Api object is very simple, but in later versions users will be able to configure it using parameters."
   ]
  },
  {
   "cell_type": "code",
   "execution_count": 3,
   "id": "27714f7b",
   "metadata": {},
   "outputs": [],
   "source": [
    "api = Api()"
   ]
  },
  {
   "cell_type": "markdown",
   "id": "050f3630",
   "metadata": {},
   "source": [
    "Now we'll create a workset by passing the workset identifier and the api object to the Workset class initializer."
   ]
  },
  {
   "cell_type": "code",
   "execution_count": 4,
   "id": "95bc30e3",
   "metadata": {},
   "outputs": [
    {
     "name": "stdout",
     "output_type": "stream",
     "text": [
      "Torchlite_Workset(64407dbd3300005208a5dca4)\n"
     ]
    }
   ],
   "source": [
    "workset = Workset(workset_id, api)\n",
    "print(workset)"
   ]
  },
  {
   "cell_type": "markdown",
   "id": "f9974a8f",
   "metadata": {},
   "source": [
    "A Workset object has several user-accessible properties and methods. The htids property contains the htids of all the volumes in the workset:"
   ]
  },
  {
   "cell_type": "code",
   "execution_count": 5,
   "id": "2849b6d7",
   "metadata": {},
   "outputs": [
    {
     "name": "stdout",
     "output_type": "stream",
     "text": [
      "['uc2.ark:/13960/t3028pw46', 'nc01.ark:/13960/t2s47rp50', 'mdp.39015004288042', 'mdp.39015004830785', 'uc2.ark:/13960/t7gq6rn7k', 'uva.x000301612', 'uc2.ark:/13960/t0qr4pk1s', 'uc1.b3144696', 'loc.ark:/13960/t2x35cw4s', 'njp.32101064283474', 'uc2.ark:/13960/t4bn9z448', 'wu.89088297718', 'hvd.hnl33i', 'loc.ark:/13960/t1zc81g1r', 'uva.x000550658', 'inu.30000105000149', 'mdp.39015051125089', 'uva.x030832514', 'mdp.39015033911176', 'nyp.33433076069214', 'mdp.39015030041613', 'nyp.33433076032725', 'nyp.33433074941026', 'loc.ark:/13960/t08w49p1x', 'mdp.39015005618072', 'dul1.ark:/13960/t6m04w73w', 'nc01.ark:/13960/t5n87970b', 'nyp.33433081883005', 'dul1.ark:/13960/t1cj9916g', 'mdp.39015009772446', 'miun.afj9003.0001.001', 'njp.32101073475947', 'loc.ark:/13960/t6zw1qw76', 'uva.x004508565', 'nc01.ark:/13960/t5w67jz42', 'pst.000005977888', 'nyp.33433066599915', 'uc2.ark:/13960/t5x63bg3m', 'inu.30000053319657', 'uva.x002015843', 'nc01.ark:/13960/t7jq10k79', 'inu.30000109024962', 'uc1.b4719425', 'uva.x001578851', 'uc1.32106002063532', 'uc1.b3687268', 'nyp.33433076089204', 'uc2.ark:/13960/t9m32p524', 'nc01.ark:/13960/t75t4qt9v', 'loc.ark:/13960/t3417vk95', 'uc1.b3325163', 'mdp.39015059475536', 'nnc2.ark:/13960/t8tb15264', 'nc01.ark:/13960/t1fj3pn6f', 'nc01.ark:/13960/t9d51qz1t', 'uc1.b4102490', 'uc2.ark:/13960/t3st7fj83', 'njp.32101066122597', 'njp.32101068150174', 'miun.acr4289.0001.001', 'inu.30000111997973', 'inu.30000127830770', 'uc2.ark:/13960/t1vd6p99w', 'mdp.39015063617529', 'uc2.ark:/13960/t7dr2rd9m', 'hvd.hw3e5e', 'uc1.b3324230', 'njp.32101019679891', 'nc01.ark:/13960/t9087bz87', 'uva.x000134749', 'inu.30000054472976', 'nyp.33433074788294', 'uva.x002042861', 'nc01.ark:/13960/t50g4wj3w', 'uc1.b4105139', 'uc1.32106009295244', 'nyp.33433074873617', 'uc2.ark:/13960/t4cn7063n', 'uc2.ark:/13960/t1td9p78b', 'nc01.ark:/13960/t3418369h', 'uva.x004274278', 'uc2.ark:/13960/t86h4dt08']\n"
     ]
    }
   ],
   "source": [
    "print(workset.htids)"
   ]
  },
  {
   "cell_type": "markdown",
   "id": "547645fa",
   "metadata": {},
   "source": [
    "The metadata property is very useful.  It is a method that takes a list of attributes and queries to EF database for just those attributes and nothing else, leading to better performance for very large worksets."
   ]
  },
  {
   "cell_type": "code",
   "execution_count": 6,
   "id": "6994d915",
   "metadata": {},
   "outputs": [
    {
     "name": "stdout",
     "output_type": "stream",
     "text": [
      "[htrc.ef.datamodels.Volume(dul1.ark:/13960/t1cj9916g), htrc.ef.datamodels.Volume(dul1.ark:/13960/t6m04w73w), htrc.ef.datamodels.Volume(hvd.hnl33i), htrc.ef.datamodels.Volume(hvd.hw3e5e), htrc.ef.datamodels.Volume(inu.30000053319657), htrc.ef.datamodels.Volume(inu.30000054472976), htrc.ef.datamodels.Volume(inu.30000105000149), htrc.ef.datamodels.Volume(inu.30000109024962), htrc.ef.datamodels.Volume(inu.30000111997973), htrc.ef.datamodels.Volume(inu.30000127830770), htrc.ef.datamodels.Volume(loc.ark:/13960/t08w49p1x), htrc.ef.datamodels.Volume(loc.ark:/13960/t1zc81g1r), htrc.ef.datamodels.Volume(loc.ark:/13960/t2x35cw4s), htrc.ef.datamodels.Volume(loc.ark:/13960/t3417vk95), htrc.ef.datamodels.Volume(loc.ark:/13960/t6zw1qw76), htrc.ef.datamodels.Volume(mdp.39015004288042), htrc.ef.datamodels.Volume(mdp.39015004830785), htrc.ef.datamodels.Volume(mdp.39015005618072), htrc.ef.datamodels.Volume(mdp.39015009772446), htrc.ef.datamodels.Volume(mdp.39015030041613), htrc.ef.datamodels.Volume(mdp.39015033911176), htrc.ef.datamodels.Volume(mdp.39015051125089), htrc.ef.datamodels.Volume(mdp.39015059475536), htrc.ef.datamodels.Volume(mdp.39015063617529), htrc.ef.datamodels.Volume(miun.acr4289.0001.001), htrc.ef.datamodels.Volume(miun.afj9003.0001.001), htrc.ef.datamodels.Volume(nc01.ark:/13960/t1fj3pn6f), htrc.ef.datamodels.Volume(nc01.ark:/13960/t2s47rp50), htrc.ef.datamodels.Volume(nc01.ark:/13960/t3418369h), htrc.ef.datamodels.Volume(nc01.ark:/13960/t50g4wj3w), htrc.ef.datamodels.Volume(nc01.ark:/13960/t5n87970b), htrc.ef.datamodels.Volume(nc01.ark:/13960/t5w67jz42), htrc.ef.datamodels.Volume(nc01.ark:/13960/t75t4qt9v), htrc.ef.datamodels.Volume(nc01.ark:/13960/t7jq10k79), htrc.ef.datamodels.Volume(nc01.ark:/13960/t9087bz87), htrc.ef.datamodels.Volume(nc01.ark:/13960/t9d51qz1t), htrc.ef.datamodels.Volume(njp.32101019679891), htrc.ef.datamodels.Volume(njp.32101064283474), htrc.ef.datamodels.Volume(njp.32101066122597), htrc.ef.datamodels.Volume(njp.32101068150174), htrc.ef.datamodels.Volume(njp.32101073475947), htrc.ef.datamodels.Volume(nnc2.ark:/13960/t8tb15264), htrc.ef.datamodels.Volume(nyp.33433066599915), htrc.ef.datamodels.Volume(nyp.33433074788294), htrc.ef.datamodels.Volume(nyp.33433074873617), htrc.ef.datamodels.Volume(nyp.33433074941026), htrc.ef.datamodels.Volume(nyp.33433076032725), htrc.ef.datamodels.Volume(nyp.33433076069214), htrc.ef.datamodels.Volume(nyp.33433076089204), htrc.ef.datamodels.Volume(nyp.33433081883005), htrc.ef.datamodels.Volume(pst.000005977888), htrc.ef.datamodels.Volume(uc1.32106002063532), htrc.ef.datamodels.Volume(uc1.32106009295244), htrc.ef.datamodels.Volume(uc1.b3144696), htrc.ef.datamodels.Volume(uc1.b3324230), htrc.ef.datamodels.Volume(uc1.b3325163), htrc.ef.datamodels.Volume(uc1.b3687268), htrc.ef.datamodels.Volume(uc1.b4102490), htrc.ef.datamodels.Volume(uc1.b4105139), htrc.ef.datamodels.Volume(uc1.b4719425), htrc.ef.datamodels.Volume(uc2.ark:/13960/t0qr4pk1s), htrc.ef.datamodels.Volume(uc2.ark:/13960/t1td9p78b), htrc.ef.datamodels.Volume(uc2.ark:/13960/t1vd6p99w), htrc.ef.datamodels.Volume(uc2.ark:/13960/t3028pw46), htrc.ef.datamodels.Volume(uc2.ark:/13960/t3st7fj83), htrc.ef.datamodels.Volume(uc2.ark:/13960/t4bn9z448), htrc.ef.datamodels.Volume(uc2.ark:/13960/t4cn7063n), htrc.ef.datamodels.Volume(uc2.ark:/13960/t5x63bg3m), htrc.ef.datamodels.Volume(uc2.ark:/13960/t7dr2rd9m), htrc.ef.datamodels.Volume(uc2.ark:/13960/t7gq6rn7k), htrc.ef.datamodels.Volume(uc2.ark:/13960/t86h4dt08), htrc.ef.datamodels.Volume(uc2.ark:/13960/t9m32p524), htrc.ef.datamodels.Volume(uva.x000134749), htrc.ef.datamodels.Volume(uva.x000301612), htrc.ef.datamodels.Volume(uva.x000550658), htrc.ef.datamodels.Volume(uva.x001578851), htrc.ef.datamodels.Volume(uva.x002015843), htrc.ef.datamodels.Volume(uva.x002042861), htrc.ef.datamodels.Volume(uva.x004274278), htrc.ef.datamodels.Volume(uva.x004508565), htrc.ef.datamodels.Volume(uva.x030832514), htrc.ef.datamodels.Volume(wu.89088297718)]\n"
     ]
    }
   ],
   "source": [
    "metadata = workset.metadata(['htid', 'metadata.title', 'metadata.pubDate'])\n",
    "print(metadata)"
   ]
  },
  {
   "cell_type": "markdown",
   "id": "54c91a5a",
   "metadata": {},
   "source": [
    "The values returned from the EF API are validated using Pydantic data models, which also provide a simplified interface to the data fields."
   ]
  },
  {
   "cell_type": "code",
   "execution_count": 7,
   "id": "9b72bcea",
   "metadata": {},
   "outputs": [
    {
     "name": "stdout",
     "output_type": "stream",
     "text": [
      "Travels through North and South Carolina, Georgia, East and West Florida, the Cherokee country, the extensive territories of the Muscogulges, or Creek confederacy, and the country of the Chactaws; containing an account of the soil and natural productions of those regions; together with observations on the manners of the Indians ...\n"
     ]
    }
   ],
   "source": [
    "print(metadata[0].metadata.title)"
   ]
  },
  {
   "cell_type": "markdown",
   "id": "e0628eb9",
   "metadata": {},
   "source": [
    "We can use simple Python list comprehensions to compile a basic data structure (a list of dictionaries) that we can use in our data visualization and analysis:"
   ]
  },
  {
   "cell_type": "code",
   "execution_count": 8,
   "id": "b12e6f95",
   "metadata": {},
   "outputs": [
    {
     "name": "stdout",
     "output_type": "stream",
     "text": [
      "[{'htid': 'dul1.ark:/13960/t1cj9916g', 'title': 'Travels through North and South Carolina, Georgia, East and West Florida, the Cherokee country, the extensive territories of the Muscogulges, or Creek confederacy, and the country of the Chactaws; containing an account of the soil and natural productions of those regions; together with observations on the manners of the Indians ...', 'pubDate': 1793}, {'htid': 'dul1.ark:/13960/t6m04w73w', 'title': 'Master William Mitten: or, A youth of brilliant talent, who was ruined by bad luck.', 'pubDate': 1864}, {'htid': 'hvd.hnl33i', 'title': 'The wigwam and the cabin, or Tales of the south. 1st series.', 'pubDate': 1853}, {'htid': 'hvd.hw3e5e', 'title': 'Sketches of the life and character of Patrick Henry.', 'pubDate': 1844}, {'htid': 'inu.30000053319657', 'title': 'The Westover manuscripts: containing the history of the dividing line betwixt Virginia and North Carolina; A journey to the land of Eden, A.D. 1733; and A progress to the mines.', 'pubDate': 1841}, {'htid': 'inu.30000054472976', 'title': 'Life on the Mississippi,', 'pubDate': 1899}, {'htid': 'inu.30000105000149', 'title': 'The conjure woman /', 'pubDate': 1900}, {'htid': 'inu.30000109024962', 'title': 'Poems and plays,', 'pubDate': 1788}, {'htid': 'inu.30000111997973', 'title': 'The deliverance.', 'pubDate': 1920}, {'htid': 'inu.30000127830770', 'title': 'The flush times of Alabama and Mississippi : a series of sketches /', 'pubDate': 1854}, {'htid': 'loc.ark:/13960/t08w49p1x', 'title': 'Poems ...', 'pubDate': 1884}, {'htid': 'loc.ark:/13960/t1zc81g1r', 'title': 'Cannibals all! or, Slaves without masters.', 'pubDate': 1857}, {'htid': 'loc.ark:/13960/t2x35cw4s', 'title': 'The land where we were dreaming, and other poems of Daniel Bedinger Lucas,', 'pubDate': 1913}, {'htid': 'loc.ark:/13960/t3417vk95', 'title': 'Under the tree,', 'pubDate': 1922}, {'htid': 'loc.ark:/13960/t6zw1qw76', 'title': 'The history of Carolina : containing the exact description and natural history of that country, together with the present state thereof and a journal of a thousand miles traveled through several nations of Indians, giving a particular account of their customs, manners, &c., &c /', 'pubDate': 1860}, {'htid': 'mdp.39015004288042', 'title': 'To have and to hold,', 'pubDate': 1900}, {'htid': 'mdp.39015004830785', 'title': 'Virginia.', 'pubDate': 1929}, {'htid': 'mdp.39015005618072', 'title': 'St. Elmo /', 'pubDate': 1900}, {'htid': 'mdp.39015009772446', 'title': 'Slave songs of the United States.', 'pubDate': 1867}, {'htid': 'mdp.39015030041613', 'title': 'The prophet of the Great Smoky Mountains /', 'pubDate': 1885}, {'htid': 'mdp.39015033911176', 'title': 'In ole Virginia; or, Marse Chan, and other stories.', 'pubDate': 1925}, {'htid': 'mdp.39015051125089', 'title': 'Social relations in our southern states.', 'pubDate': 1860}, {'htid': 'mdp.39015059475536', 'title': 'Frederick Douglass,', 'pubDate': 1899}, {'htid': 'mdp.39015063617529', 'title': 'Simon Suggs\\' adventures. Late of the Tallapoosa volunteers. Together with \"Taking the census,\" and other Alabama sketches. With portrait of Captain Simon Suggs.', 'pubDate': 1928}, {'htid': 'miun.acr4289.0001.001', 'title': 'Old Creole days : a story of creole life /', 'pubDate': 1906}, {'htid': 'miun.afj9003.0001.001', 'title': 'The history of Virginia : in four parts ...', 'pubDate': 1855}, {'htid': 'nc01.ark:/13960/t1fj3pn6f', 'title': 'Recollections of the inhabitants, localities, superstitions and Kuklux outrages of the Carolinas.', 'pubDate': 1880}, {'htid': 'nc01.ark:/13960/t2s47rp50', 'title': 'Dialect tales /', 'pubDate': 1883}, {'htid': 'nc01.ark:/13960/t3418369h', 'title': 'The awakening,', 'pubDate': 1899}, {'htid': 'nc01.ark:/13960/t50g4wj3w', 'title': \"The colonel's dream /\", 'pubDate': 1905}, {'htid': 'nc01.ark:/13960/t5n87970b', 'title': \"The clansman : an American drama : from his two famous novels The leopard's spots and The clansman : presented by the Southern Amusement Co. /\", 'pubDate': 1905}, {'htid': 'nc01.ark:/13960/t5w67jz42', 'title': 'Autobiography of Col. Richard Malcolm Johnston.', 'pubDate': 1900}, {'htid': 'nc01.ark:/13960/t75t4qt9v', 'title': 'Life and times of Frederick Douglass, written by himself.', 'pubDate': 1892}, {'htid': 'nc01.ark:/13960/t7jq10k79', 'title': 'The marrow of tradition /', 'pubDate': 1901}, {'htid': 'nc01.ark:/13960/t9087bz87', 'title': 'Uncle Remus : his songs and his sayings /', 'pubDate': 1921}, {'htid': 'nc01.ark:/13960/t9d51qz1t', 'title': 'Poems about God,', 'pubDate': 1919}, {'htid': 'njp.32101019679891', 'title': 'The works of Edgar Allan Poe', 'pubDate': 1895}, {'htid': 'njp.32101064283474', 'title': 'The partisan leader.', 'pubDate': 1861}, {'htid': 'njp.32101066122597', 'title': 'Iola Leroy, or, Shadows uplifted /', 'pubDate': 1892}, {'htid': 'njp.32101068150174', 'title': 'Old times on the Mississippi,', 'pubDate': 1876}, {'htid': 'njp.32101073475947', 'title': \"The planter's northern bride : or, Scenes from Mrs. Hentz's childhood.\", 'pubDate': 1870}, {'htid': 'nnc2.ark:/13960/t8tb15264', 'title': 'My bondage and my freedom ...', 'pubDate': 1855}, {'htid': 'nyp.33433066599915', 'title': 'The hive of \"The bee-hunter\" : a repository of sketches, including peculiar American character, scenery, and rural sports /', 'pubDate': 1854}, {'htid': 'nyp.33433074788294', 'title': 'Georgia scenes, characters, incidents, &c., in the first half century of the Republic,', 'pubDate': 1859}, {'htid': 'nyp.33433074873617', 'title': 'Monsieur Motte,', 'pubDate': 1888}, {'htid': 'nyp.33433074941026', 'title': 'A night in Acadie /', 'pubDate': 1897}, {'htid': 'nyp.33433076032725', 'title': 'Verse memorials.', 'pubDate': 1857}, {'htid': 'nyp.33433076069214', 'title': 'The voice of the people,', 'pubDate': 1900}, {'htid': 'nyp.33433076089204', 'title': 'Horse Shoe Robinson; a tale of the Tory ascendency.', 'pubDate': 1835}, {'htid': 'nyp.33433081883005', 'title': 'Notes on the state of Virginia.', 'pubDate': 1832}, {'htid': 'pst.000005977888', 'title': 'Poems of Henry Timrod; with memoir...', 'pubDate': 1901}, {'htid': 'uc1.32106002063532', 'title': 'Bayou folk,', 'pubDate': 1894}, {'htid': 'uc1.32106009295244', 'title': 'Sociology for the South : or, The failure of free society /', 'pubDate': 1854}, {'htid': 'uc1.b3144696', 'title': 'Fact stranger than fiction : seventy-five years of a busy life, with reminiscences, of many great and good men and women /', 'pubDate': 1920}, {'htid': 'uc1.b3324230', 'title': 'Free Joe, and other Georgian sketches.', 'pubDate': 1899}, {'htid': 'uc1.b3325163', 'title': 'In Simpkinsville; character tales, by Ruth McEnery Stuart.', 'pubDate': 1897}, {'htid': 'uc1.b3687268', 'title': 'The cream of the jest : a comedy of evasions /', 'pubDate': 1917}, {'htid': 'uc1.b4102490', 'title': 'Sut Lovingood; ', 'pubDate': 1954}, {'htid': 'uc1.b4105139', 'title': 'Woodcraft : or, Hawks about the dovecote : a story of the South at the close of the Revolution /', 'pubDate': 1890}, {'htid': 'uc1.b4719425', 'title': 'Tales and poems.', 'pubDate': 1915}, {'htid': 'uc2.ark:/13960/t0qr4pk1s', 'title': \"The swamp doctor's adventures in the South-west. Containing the whole of the Louisiana swamp doctor; Streaks of squatter life; and Far-western scenes; in a series of forty-two humorous southern and western sketches ...\", 'pubDate': 1858}, {'htid': 'uc2.ark:/13960/t1td9p78b', 'title': 'Colonel Carter of Cartersville;', 'pubDate': 1899}, {'htid': 'uc2.ark:/13960/t1vd6p99w', 'title': 'Balcony stories /', 'pubDate': 1914}, {'htid': 'uc2.ark:/13960/t3028pw46', 'title': 'Life and times of Frederick Douglass, written by himself : his early life as a slave, his escape from bondage, and his complete history to the present time, including his connection with the anti-slavery movement, his labors in Great Britain as well as in his own country, etc. /', 'pubDate': 1881}, {'htid': 'uc2.ark:/13960/t3st7fj83', 'title': 'Narrative of the life of Frederick Douglass, an American slave /', 'pubDate': 1852}, {'htid': 'uc2.ark:/13960/t4bn9z448', 'title': \"Kennedy's works.\", 'pubDate': 1855}, {'htid': 'uc2.ark:/13960/t4cn7063n', 'title': 'The Yemassee : a romance of Carolina /', 'pubDate': 1888}, {'htid': 'uc2.ark:/13960/t5x63bg3m', 'title': 'The house behind the cedars /', 'pubDate': 1901}, {'htid': 'uc2.ark:/13960/t7dr2rd9m', 'title': 'Incidents in the life of a slave girl.', 'pubDate': 1861}, {'htid': 'uc2.ark:/13960/t7gq6rn7k', 'title': 'Southern prose and poetry for schools,', 'pubDate': 1910}, {'htid': 'uc2.ark:/13960/t86h4dt08', 'title': 'A diary from Dixie, as written by Mary Boykin Chesnut, wife of James Chesnut, jr., United States senator from South Carolina, 1859-1861...', 'pubDate': 1906}, {'htid': 'uc2.ark:/13960/t9m32p524', 'title': \"The leopard's spots; a romance of the white man's burden 1865-1900,\", 'pubDate': 1906}, {'htid': 'uva.x000134749', 'title': 'The Grandissimes,', 'pubDate': 1920}, {'htid': 'uva.x000301612', 'title': 'The generall historie of Virginia, New England & the Summer Isles, together with The true travels, adventures and observations, and A sea grammar /', 'pubDate': 1907}, {'htid': 'uva.x000550658', 'title': 'Social life in old Virginia before the war.', 'pubDate': 1897}, {'htid': 'uva.x001578851', 'title': 'The raven /', 'pubDate': 1905}, {'htid': 'uva.x002015843', 'title': 'In the Tennessee mountains;', 'pubDate': 1885}, {'htid': 'uva.x002042861', 'title': 'The traitor; a story of the fall of the invisible empire,', 'pubDate': 1920}, {'htid': 'uva.x004274278', 'title': 'The battle-ground /', 'pubDate': 1902}, {'htid': 'uva.x004508565', 'title': 'The man that corrupted Hadleyburg : and other stories and essays /', 'pubDate': 1919}, {'htid': 'uva.x030832514', 'title': 'Cabbages and kings,', 'pubDate': 1908}, {'htid': 'wu.89088297718', 'title': 'Northern Georgia sketches,', 'pubDate': 1900}]\n"
     ]
    }
   ],
   "source": [
    "pubData = [{\"htid\": v.htid, \"title\": v.metadata.title, \"pubDate\": v.metadata.pubDate} for v in metadata]\n",
    "print(pubData)"
   ]
  },
  {
   "cell_type": "markdown",
   "id": "c3befc91",
   "metadata": {},
   "source": [
    "In the next demo, we'll show you how to use Torchlite to create visualizations in a Jupyter Notebook."
   ]
  }
 ],
 "metadata": {
  "kernelspec": {
   "display_name": "Python 3 (ipykernel)",
   "language": "python",
   "name": "python3"
  },
  "language_info": {
   "codemirror_mode": {
    "name": "ipython",
    "version": 3
   },
   "file_extension": ".py",
   "mimetype": "text/x-python",
   "name": "python",
   "nbconvert_exporter": "python",
   "pygments_lexer": "ipython3",
   "version": "3.11.2"
  }
 },
 "nbformat": 4,
 "nbformat_minor": 5
}
